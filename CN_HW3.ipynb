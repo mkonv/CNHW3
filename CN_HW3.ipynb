{
  "nbformat": 4,
  "nbformat_minor": 0,
  "metadata": {
    "colab": {
      "name": "CN_HW3",
      "provenance": [],
      "collapsed_sections": []
    },
    "kernelspec": {
      "name": "python3",
      "display_name": "Python 3"
    }
  },
  "cells": [
    {
      "cell_type": "markdown",
      "metadata": {
        "id": "cQaBwZmXkyjU"
      },
      "source": [
        "Packages"
      ]
    },
    {
      "cell_type": "code",
      "metadata": {
        "id": "kqf8w8Hej72S"
      },
      "source": [
        "import matplotlib.pyplot as plt\n",
        "import numpy as np\n",
        "from scipy.integrate import odeint\n",
        "import random\n",
        "import math"
      ],
      "execution_count": 1,
      "outputs": []
    },
    {
      "cell_type": "markdown",
      "metadata": {
        "id": "__WqViVkkplm"
      },
      "source": [
        "Constants"
      ]
    },
    {
      "cell_type": "code",
      "metadata": {
        "id": "Z_gJn9lEk1DT"
      },
      "source": [
        "g_L = 0.003\n",
        "g_K = 0.36\n",
        "g_Na = 1.2"
      ],
      "execution_count": 2,
      "outputs": []
    },
    {
      "cell_type": "code",
      "metadata": {
        "id": "fGN41THmlulr"
      },
      "source": [
        "E_L = -54.387\n",
        "E_K = -77.0\n",
        "E_Na = 55.0\n",
        "E_Cl = -65.0"
      ],
      "execution_count": 3,
      "outputs": []
    },
    {
      "cell_type": "code",
      "metadata": {
        "id": "nFSM6LyzwRbI"
      },
      "source": [
        "Cm = 10.0"
      ],
      "execution_count": 4,
      "outputs": []
    },
    {
      "cell_type": "code",
      "metadata": {
        "id": "JDrIuwtnVMCz"
      },
      "source": [
        "K_B = 500\n",
        "K_A = 128\n",
        "gam_B = 10\n",
        "gam_A = 8"
      ],
      "execution_count": 5,
      "outputs": []
    },
    {
      "cell_type": "markdown",
      "metadata": {
        "id": "jq1d7YIVwyt4"
      },
      "source": [
        "Initial state"
      ]
    },
    {
      "cell_type": "code",
      "metadata": {
        "id": "3L8pJ3C3wu2B"
      },
      "source": [
        "Vm_0 = -65.0"
      ],
      "execution_count": 6,
      "outputs": []
    },
    {
      "cell_type": "markdown",
      "metadata": {
        "id": "5wgCtZTumM-a"
      },
      "source": [
        "Equations for m, n и h:\n"
      ]
    },
    {
      "cell_type": "code",
      "metadata": {
        "id": "0-_tJBGHmN-q"
      },
      "source": [
        "def alpha_n(V):\n",
        "    return (0.01 * (V + 55)) / (1 - np.exp(-0.1 * (V + 55)))\n",
        "\n",
        "def beta_n(V):\n",
        "    return 0.125 * np.exp(-0.0125 * (V + 65))\n",
        "\n",
        "def alpha_m(V):\n",
        "    return (0.1 * (V + 40)) / (1 - np.exp(-0.1 * (V + 40)))\n",
        "\n",
        "def beta_m(V):\n",
        "    return 4 * np.exp(-0.0556 * (V + 65))\n",
        "\n",
        "def alpha_h(V):\n",
        "    return 0.07 * np.exp(-0.05 * (V + 65))\n",
        "\n",
        "def beta_h(V):\n",
        "    return 1.0 / (1 + np.exp(-0.1 * (V + 35)))\n",
        "\n",
        "def n_inf(V=Vm_0):\n",
        "    return alpha_n(V) / (alpha_n(V) + beta_n(V))\n",
        "\n",
        "def m_inf(V=Vm_0):\n",
        "    return alpha_m(V) / (alpha_m(V) + beta_m(V))\n",
        "\n",
        "def h_inf(V=Vm_0):\n",
        "    return alpha_h(V) / (alpha_h(V) + beta_h(V))"
      ],
      "execution_count": 7,
      "outputs": []
    },
    {
      "cell_type": "markdown",
      "metadata": {
        "id": "Sd91c-gSxB33"
      },
      "source": [
        "Derivatives"
      ]
    },
    {
      "cell_type": "code",
      "metadata": {
        "id": "vEejOjjfxBKJ"
      },
      "source": [
        "def compute_derivatives(y, t0):\n",
        "    dy = np.zeros((4,))\n",
        "    \n",
        "    V = y[0]\n",
        "    n = y[1]\n",
        "    m = y[2]\n",
        "    h = y[3]\n",
        "    \n",
        "    G_L = (g_L / Cm * 1000)\n",
        "    G_K = (g_K / Cm * 1000) * np.power(n, 4.0)\n",
        "    G_Na = (g_Na / Cm * 1000) * np.power(m, 3.0) * h\n",
        "\n",
        "    I_A = N_A * (1 / (1 + K_A * V_A / (L(t0, \"A\")))) * (V - E_Cl) * gam_A\n",
        "    I_B = N_B * (1 / (1 + K_B * V_B / (L(t0, \"B\")))) * (V - E_Na) * gam_B\n",
        "    \n",
        "    dy[0] =  (I_A + I_B) 1 / Cm * 10 - (G_K * (V - E_K)) - (G_Na * (V - E_Na))\n",
        "    \n",
        "    dy[1] = (alpha_n(V) * (1.0 - n)) - (beta_n(V) * n)\n",
        "    \n",
        "    dy[2] = (alpha_m(V) * (1.0 - m)) - (beta_m(V) * m)\n",
        "    \n",
        "    dy[3] = (alpha_h(V) * (1.0 - h)) - (beta_h(V) * h)\n",
        "    \n",
        "    return dy"
      ],
      "execution_count": 8,
      "outputs": []
    },
    {
      "cell_type": "markdown",
      "metadata": {
        "id": "LtaKI-qJhjNI"
      },
      "source": [
        "Initial state"
      ]
    },
    {
      "cell_type": "code",
      "metadata": {
        "id": "DJEb8a91zsUH"
      },
      "source": [
        "Y = np.array([Vm_0, n_inf(), m_inf(), h_inf()])"
      ],
      "execution_count": 9,
      "outputs": []
    },
    {
      "cell_type": "markdown",
      "metadata": {
        "id": "xJF-YjdsnCqC"
      },
      "source": [
        "First simulation - definition of stimulus and lenghts"
      ]
    },
    {
      "cell_type": "code",
      "metadata": {
        "id": "K1hVAA4GosMa"
      },
      "source": [
        "def L(t0, syn):\n",
        "  if syn == \"A\":\n",
        "    return L_A_d.get(float(t0))\n",
        "  elif syn == \"B\":\n",
        "    return L_B_d.get(float(t0))"
      ],
      "execution_count": 10,
      "outputs": []
    },
    {
      "cell_type": "markdown",
      "metadata": {
        "id": "Ii6IpgM9hsM9"
      },
      "source": [
        "Computation"
      ]
    },
    {
      "cell_type": "code",
      "metadata": {
        "id": "RHCXVZgQc2eE"
      },
      "source": [
        "T = np.linspace(0.0, 60.0, 10000)"
      ],
      "execution_count": 11,
      "outputs": []
    },
    {
      "cell_type": "code",
      "metadata": {
        "id": "tdGq9fgCnCIF"
      },
      "source": [
        "L_inc_A = 3\n",
        "L_inc_B = 3\n",
        "N_A = 1\n",
        "V_A = 5\n",
        "N_B = 1\n",
        "V_B = 5\n",
        "un = 0.5\n",
        "ps = 3\n",
        "L_out_A = 2\n",
        "L_out_B = 2"
      ],
      "execution_count": 12,
      "outputs": []
    },
    {
      "cell_type": "code",
      "metadata": {
        "id": "NUONn8yk1AAK"
      },
      "source": [
        "L_A = np.zeros(len(T))\n",
        "for i in range(1, len(T)):\n",
        "    is_spiking = np.random.poisson(ps) > ps\n",
        "    L_A[i] = max(L_A[i - 1] + int(is_spiking) * L_inc_A - L_out_A, 0.0)\n",
        "L_A_d = dict(zip(T, L_A))\n",
        "\n",
        "L_B = np.zeros(len(T))\n",
        "for i in range(1, len(T)):\n",
        "    is_spiking = np.random.uniform(0,1) > un\n",
        "    L_B[i] = max(L_B[i - 1] + int(is_spiking) * L_inc_B - L_out_B, 0.0)\n",
        "L_B_d = dict(zip(T, L_B))"
      ],
      "execution_count": 13,
      "outputs": []
    },
    {
      "cell_type": "code",
      "metadata": {
        "id": "0ylTPnmBzvce",
        "outputId": "c7882648-0a3f-4491-f388-feaf209f343f",
        "colab": {
          "base_uri": "https://localhost:8080/",
          "height": 374
        }
      },
      "source": [
        "Ey = odeint(compute_derivatives, Y, T)"
      ],
      "execution_count": 14,
      "outputs": [
        {
          "output_type": "stream",
          "text": [
            "/usr/local/lib/python3.6/dist-packages/ipykernel_launcher.py:13: RuntimeWarning: divide by zero encountered in double_scalars\n",
            "  del sys.path[0]\n",
            "/usr/local/lib/python3.6/dist-packages/ipykernel_launcher.py:14: RuntimeWarning: divide by zero encountered in double_scalars\n",
            "  \n"
          ],
          "name": "stderr"
        },
        {
          "output_type": "error",
          "ename": "TypeError",
          "evalue": "ignored",
          "traceback": [
            "\u001b[0;31m---------------------------------------------------------------------------\u001b[0m",
            "\u001b[0;31mTypeError\u001b[0m                                 Traceback (most recent call last)",
            "\u001b[0;32m<ipython-input-14-5fb2576ee29c>\u001b[0m in \u001b[0;36m<module>\u001b[0;34m()\u001b[0m\n\u001b[0;32m----> 1\u001b[0;31m \u001b[0mEy\u001b[0m \u001b[0;34m=\u001b[0m \u001b[0modeint\u001b[0m\u001b[0;34m(\u001b[0m\u001b[0mcompute_derivatives\u001b[0m\u001b[0;34m,\u001b[0m \u001b[0mY\u001b[0m\u001b[0;34m,\u001b[0m \u001b[0mT\u001b[0m\u001b[0;34m)\u001b[0m\u001b[0;34m\u001b[0m\u001b[0;34m\u001b[0m\u001b[0m\n\u001b[0m",
            "\u001b[0;32m/usr/local/lib/python3.6/dist-packages/scipy/integrate/odepack.py\u001b[0m in \u001b[0;36modeint\u001b[0;34m(func, y0, t, args, Dfun, col_deriv, full_output, ml, mu, rtol, atol, tcrit, h0, hmax, hmin, ixpr, mxstep, mxhnil, mxordn, mxords, printmessg, tfirst)\u001b[0m\n\u001b[1;32m    243\u001b[0m                              \u001b[0mfull_output\u001b[0m\u001b[0;34m,\u001b[0m \u001b[0mrtol\u001b[0m\u001b[0;34m,\u001b[0m \u001b[0matol\u001b[0m\u001b[0;34m,\u001b[0m \u001b[0mtcrit\u001b[0m\u001b[0;34m,\u001b[0m \u001b[0mh0\u001b[0m\u001b[0;34m,\u001b[0m \u001b[0mhmax\u001b[0m\u001b[0;34m,\u001b[0m \u001b[0mhmin\u001b[0m\u001b[0;34m,\u001b[0m\u001b[0;34m\u001b[0m\u001b[0;34m\u001b[0m\u001b[0m\n\u001b[1;32m    244\u001b[0m                              \u001b[0mixpr\u001b[0m\u001b[0;34m,\u001b[0m \u001b[0mmxstep\u001b[0m\u001b[0;34m,\u001b[0m \u001b[0mmxhnil\u001b[0m\u001b[0;34m,\u001b[0m \u001b[0mmxordn\u001b[0m\u001b[0;34m,\u001b[0m \u001b[0mmxords\u001b[0m\u001b[0;34m,\u001b[0m\u001b[0;34m\u001b[0m\u001b[0;34m\u001b[0m\u001b[0m\n\u001b[0;32m--> 245\u001b[0;31m                              int(bool(tfirst)))\n\u001b[0m\u001b[1;32m    246\u001b[0m     \u001b[0;32mif\u001b[0m \u001b[0moutput\u001b[0m\u001b[0;34m[\u001b[0m\u001b[0;34m-\u001b[0m\u001b[0;36m1\u001b[0m\u001b[0;34m]\u001b[0m \u001b[0;34m<\u001b[0m \u001b[0;36m0\u001b[0m\u001b[0;34m:\u001b[0m\u001b[0;34m\u001b[0m\u001b[0;34m\u001b[0m\u001b[0m\n\u001b[1;32m    247\u001b[0m         \u001b[0mwarning_msg\u001b[0m \u001b[0;34m=\u001b[0m \u001b[0m_msgs\u001b[0m\u001b[0;34m[\u001b[0m\u001b[0moutput\u001b[0m\u001b[0;34m[\u001b[0m\u001b[0;34m-\u001b[0m\u001b[0;36m1\u001b[0m\u001b[0;34m]\u001b[0m\u001b[0;34m]\u001b[0m \u001b[0;34m+\u001b[0m \u001b[0;34m\" Run with full_output = 1 to get quantitative information.\"\u001b[0m\u001b[0;34m\u001b[0m\u001b[0;34m\u001b[0m\u001b[0m\n",
            "\u001b[0;32m<ipython-input-8-dd9c1af23a4d>\u001b[0m in \u001b[0;36mcompute_derivatives\u001b[0;34m(y, t0)\u001b[0m\n\u001b[1;32m     11\u001b[0m     \u001b[0mG_Na\u001b[0m \u001b[0;34m=\u001b[0m \u001b[0;34m(\u001b[0m\u001b[0mg_Na\u001b[0m \u001b[0;34m/\u001b[0m \u001b[0mCm\u001b[0m \u001b[0;34m*\u001b[0m \u001b[0;36m1000\u001b[0m\u001b[0;34m)\u001b[0m \u001b[0;34m*\u001b[0m \u001b[0mnp\u001b[0m\u001b[0;34m.\u001b[0m\u001b[0mpower\u001b[0m\u001b[0;34m(\u001b[0m\u001b[0mm\u001b[0m\u001b[0;34m,\u001b[0m \u001b[0;36m3.0\u001b[0m\u001b[0;34m)\u001b[0m \u001b[0;34m*\u001b[0m \u001b[0mh\u001b[0m\u001b[0;34m\u001b[0m\u001b[0;34m\u001b[0m\u001b[0m\n\u001b[1;32m     12\u001b[0m \u001b[0;34m\u001b[0m\u001b[0m\n\u001b[0;32m---> 13\u001b[0;31m     \u001b[0mI_A\u001b[0m \u001b[0;34m=\u001b[0m \u001b[0mN_A\u001b[0m \u001b[0;34m*\u001b[0m \u001b[0;34m(\u001b[0m\u001b[0;36m1\u001b[0m \u001b[0;34m/\u001b[0m \u001b[0;34m(\u001b[0m\u001b[0;36m1\u001b[0m \u001b[0;34m+\u001b[0m \u001b[0mK_A\u001b[0m \u001b[0;34m*\u001b[0m \u001b[0mV_A\u001b[0m \u001b[0;34m/\u001b[0m \u001b[0;34m(\u001b[0m\u001b[0mL\u001b[0m\u001b[0;34m(\u001b[0m\u001b[0mt0\u001b[0m\u001b[0;34m,\u001b[0m \u001b[0;34m\"A\"\u001b[0m\u001b[0;34m)\u001b[0m\u001b[0;34m)\u001b[0m\u001b[0;34m)\u001b[0m\u001b[0;34m)\u001b[0m \u001b[0;34m*\u001b[0m \u001b[0;34m(\u001b[0m\u001b[0mV\u001b[0m \u001b[0;34m-\u001b[0m \u001b[0mE_Cl\u001b[0m\u001b[0;34m)\u001b[0m \u001b[0;34m*\u001b[0m \u001b[0mgam_A\u001b[0m\u001b[0;34m\u001b[0m\u001b[0;34m\u001b[0m\u001b[0m\n\u001b[0m\u001b[1;32m     14\u001b[0m     \u001b[0mI_B\u001b[0m \u001b[0;34m=\u001b[0m \u001b[0mN_B\u001b[0m \u001b[0;34m*\u001b[0m \u001b[0;34m(\u001b[0m\u001b[0;36m1\u001b[0m \u001b[0;34m/\u001b[0m \u001b[0;34m(\u001b[0m\u001b[0;36m1\u001b[0m \u001b[0;34m+\u001b[0m \u001b[0mK_B\u001b[0m \u001b[0;34m*\u001b[0m \u001b[0mV_B\u001b[0m \u001b[0;34m/\u001b[0m \u001b[0;34m(\u001b[0m\u001b[0mL\u001b[0m\u001b[0;34m(\u001b[0m\u001b[0mt0\u001b[0m\u001b[0;34m,\u001b[0m \u001b[0;34m\"B\"\u001b[0m\u001b[0;34m)\u001b[0m\u001b[0;34m)\u001b[0m\u001b[0;34m)\u001b[0m\u001b[0;34m)\u001b[0m \u001b[0;34m*\u001b[0m \u001b[0;34m(\u001b[0m\u001b[0mV\u001b[0m \u001b[0;34m-\u001b[0m \u001b[0mE_Na\u001b[0m\u001b[0;34m)\u001b[0m \u001b[0;34m*\u001b[0m \u001b[0mgam_B\u001b[0m\u001b[0;34m\u001b[0m\u001b[0;34m\u001b[0m\u001b[0m\n\u001b[1;32m     15\u001b[0m \u001b[0;34m\u001b[0m\u001b[0m\n",
            "\u001b[0;31mTypeError\u001b[0m: unsupported operand type(s) for /: 'int' and 'NoneType'"
          ]
        }
      ]
    },
    {
      "cell_type": "markdown",
      "metadata": {
        "id": "nbHJS8YMhuE1"
      },
      "source": [
        "Graphs"
      ]
    },
    {
      "cell_type": "code",
      "metadata": {
        "id": "J4qkIsblz1uN"
      },
      "source": [
        "fig, (ax1, ax2) = plt.subplots(2,1, figsize = (20,10))\n",
        "ax1.plot(T, Ey[:, 0])\n",
        "ax1.set_xlabel('Time (ms)')\n",
        "ax1.set_ylabel('Vm (mV)')\n",
        "ax1.set_title('Vm from time')\n",
        "plt.grid()\n",
        "\n",
        "ax2.plot(T, Ey[:, 1], label = 'n')\n",
        "ax2.plot(T, Ey[:, 2], label = 'm')\n",
        "ax2.plot(T, Ey[:, 3], label = 'h')\n",
        "ax2.legend()\n",
        "ax2.set_xlabel('Time (ms)')\n",
        "ax2.set_ylabel('n, m, h')\n",
        "ax2.set_title('n, h, m from time')\n",
        "plt.grid()\n"
      ],
      "execution_count": null,
      "outputs": []
    }
  ]
}